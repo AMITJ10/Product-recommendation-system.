{
 "cells": [
  {
   "cell_type": "raw",
   "id": "ff38b15e",
   "metadata": {},
   "source": [
    "Name    : Jadhav Amit Shivkumar\n",
    "Roll no : 2337070\n",
    "Class   : TE-AIDS\n",
    "Topic   : Product recommendation for E-Commerce   "
   ]
  },
  {
   "cell_type": "code",
   "execution_count": null,
   "id": "f25f82b6",
   "metadata": {},
   "outputs": [],
   "source": [
    "import numpy as np\n",
    "import pandas as pd\n",
    "import matplotlib.pyplot as plt"
   ]
  },
  {
   "cell_type": "code",
   "execution_count": 2,
   "id": "9e234e3a",
   "metadata": {},
   "outputs": [
    {
     "data": {
      "text/html": [
       "<div>\n",
       "<style scoped>\n",
       "    .dataframe tbody tr th:only-of-type {\n",
       "        vertical-align: middle;\n",
       "    }\n",
       "\n",
       "    .dataframe tbody tr th {\n",
       "        vertical-align: top;\n",
       "    }\n",
       "\n",
       "    .dataframe thead th {\n",
       "        text-align: right;\n",
       "    }\n",
       "</style>\n",
       "<table border=\"1\" class=\"dataframe\">\n",
       "  <thead>\n",
       "    <tr style=\"text-align: right;\">\n",
       "      <th></th>\n",
       "      <th>product_uid</th>\n",
       "      <th>name</th>\n",
       "      <th>value</th>\n",
       "    </tr>\n",
       "  </thead>\n",
       "  <tbody>\n",
       "    <tr>\n",
       "      <th>0</th>\n",
       "      <td>100001.0</td>\n",
       "      <td>Bullet01</td>\n",
       "      <td>Versatile connector for various 90° connection...</td>\n",
       "    </tr>\n",
       "    <tr>\n",
       "      <th>1</th>\n",
       "      <td>100001.0</td>\n",
       "      <td>Bullet02</td>\n",
       "      <td>Stronger than angled nailing or screw fastenin...</td>\n",
       "    </tr>\n",
       "    <tr>\n",
       "      <th>2</th>\n",
       "      <td>100001.0</td>\n",
       "      <td>Bullet03</td>\n",
       "      <td>Help ensure joints are consistently straight a...</td>\n",
       "    </tr>\n",
       "    <tr>\n",
       "      <th>3</th>\n",
       "      <td>100001.0</td>\n",
       "      <td>Bullet04</td>\n",
       "      <td>Dimensions: 3 in. x 3 in. x 1-1/2 in.</td>\n",
       "    </tr>\n",
       "    <tr>\n",
       "      <th>4</th>\n",
       "      <td>100001.0</td>\n",
       "      <td>Bullet05</td>\n",
       "      <td>Made from 12-Gauge steel</td>\n",
       "    </tr>\n",
       "  </tbody>\n",
       "</table>\n",
       "</div>"
      ],
      "text/plain": [
       "   product_uid      name                                              value\n",
       "0     100001.0  Bullet01  Versatile connector for various 90° connection...\n",
       "1     100001.0  Bullet02  Stronger than angled nailing or screw fastenin...\n",
       "2     100001.0  Bullet03  Help ensure joints are consistently straight a...\n",
       "3     100001.0  Bullet04              Dimensions: 3 in. x 3 in. x 1-1/2 in.\n",
       "4     100001.0  Bullet05                           Made from 12-Gauge steel"
      ]
     },
     "execution_count": 2,
     "metadata": {},
     "output_type": "execute_result"
    }
   ],
   "source": [
    "df = pd.read_csv('attributes.csv')\n",
    "df.head()"
   ]
  },
  {
   "cell_type": "code",
   "execution_count": 3,
   "id": "8cec1dab",
   "metadata": {},
   "outputs": [
    {
     "data": {
      "text/plain": [
       "(2044803, 3)"
      ]
     },
     "execution_count": 3,
     "metadata": {},
     "output_type": "execute_result"
    }
   ],
   "source": [
    "df.shape"
   ]
  },
  {
   "cell_type": "code",
   "execution_count": 4,
   "id": "c6c5f999",
   "metadata": {},
   "outputs": [
    {
     "data": {
      "text/plain": [
       "product_uid     155\n",
       "name            155\n",
       "value          6422\n",
       "dtype: int64"
      ]
     },
     "execution_count": 4,
     "metadata": {},
     "output_type": "execute_result"
    }
   ],
   "source": [
    "df.isnull().sum()"
   ]
  },
  {
   "cell_type": "code",
   "execution_count": 6,
   "id": "d6e4401f",
   "metadata": {},
   "outputs": [],
   "source": [
    "if df is not None:\n",
    "    df.dropna(inplace=True)\n",
    "else:\n",
    "    print(\"Failed to read data from CSV file\")"
   ]
  },
  {
   "cell_type": "code",
   "execution_count": 7,
   "id": "1f248382",
   "metadata": {},
   "outputs": [
    {
     "data": {
      "text/plain": [
       "product_uid    0\n",
       "name           0\n",
       "value          0\n",
       "dtype: int64"
      ]
     },
     "execution_count": 7,
     "metadata": {},
     "output_type": "execute_result"
    }
   ],
   "source": [
    "df.isnull().sum()"
   ]
  },
  {
   "cell_type": "code",
   "execution_count": 9,
   "id": "83932cab",
   "metadata": {},
   "outputs": [],
   "source": [
    "df = df.head(1000)\n",
    "df = df.rename(columns={'value':'product_descriptions'})\n",
    "\n"
   ]
  },
  {
   "cell_type": "code",
   "execution_count": 10,
   "id": "5e34ee98",
   "metadata": {},
   "outputs": [
    {
     "data": {
      "text/html": [
       "<div>\n",
       "<style scoped>\n",
       "    .dataframe tbody tr th:only-of-type {\n",
       "        vertical-align: middle;\n",
       "    }\n",
       "\n",
       "    .dataframe tbody tr th {\n",
       "        vertical-align: top;\n",
       "    }\n",
       "\n",
       "    .dataframe thead th {\n",
       "        text-align: right;\n",
       "    }\n",
       "</style>\n",
       "<table border=\"1\" class=\"dataframe\">\n",
       "  <thead>\n",
       "    <tr style=\"text-align: right;\">\n",
       "      <th></th>\n",
       "      <th>product_uid</th>\n",
       "      <th>name</th>\n",
       "      <th>product_descriptions</th>\n",
       "    </tr>\n",
       "  </thead>\n",
       "  <tbody>\n",
       "    <tr>\n",
       "      <th>0</th>\n",
       "      <td>100001.0</td>\n",
       "      <td>Bullet01</td>\n",
       "      <td>Versatile connector for various 90° connection...</td>\n",
       "    </tr>\n",
       "    <tr>\n",
       "      <th>1</th>\n",
       "      <td>100001.0</td>\n",
       "      <td>Bullet02</td>\n",
       "      <td>Stronger than angled nailing or screw fastenin...</td>\n",
       "    </tr>\n",
       "    <tr>\n",
       "      <th>2</th>\n",
       "      <td>100001.0</td>\n",
       "      <td>Bullet03</td>\n",
       "      <td>Help ensure joints are consistently straight a...</td>\n",
       "    </tr>\n",
       "    <tr>\n",
       "      <th>3</th>\n",
       "      <td>100001.0</td>\n",
       "      <td>Bullet04</td>\n",
       "      <td>Dimensions: 3 in. x 3 in. x 1-1/2 in.</td>\n",
       "    </tr>\n",
       "    <tr>\n",
       "      <th>4</th>\n",
       "      <td>100001.0</td>\n",
       "      <td>Bullet05</td>\n",
       "      <td>Made from 12-Gauge steel</td>\n",
       "    </tr>\n",
       "  </tbody>\n",
       "</table>\n",
       "</div>"
      ],
      "text/plain": [
       "   product_uid      name                               product_descriptions\n",
       "0     100001.0  Bullet01  Versatile connector for various 90° connection...\n",
       "1     100001.0  Bullet02  Stronger than angled nailing or screw fastenin...\n",
       "2     100001.0  Bullet03  Help ensure joints are consistently straight a...\n",
       "3     100001.0  Bullet04              Dimensions: 3 in. x 3 in. x 1-1/2 in.\n",
       "4     100001.0  Bullet05                           Made from 12-Gauge steel"
      ]
     },
     "execution_count": 10,
     "metadata": {},
     "output_type": "execute_result"
    }
   ],
   "source": [
    "df.head()"
   ]
  },
  {
   "cell_type": "code",
   "execution_count": 11,
   "id": "0e749d4a",
   "metadata": {},
   "outputs": [],
   "source": [
    "from sklearn.feature_extraction.text import TfidfVectorizer\n",
    "vectorizer = TfidfVectorizer()\n",
    "X = vectorizer.fit_transform(df[\"product_descriptions\"])"
   ]
  },
  {
   "cell_type": "code",
   "execution_count": 12,
   "id": "981d89d4",
   "metadata": {},
   "outputs": [
    {
     "data": {
      "text/plain": [
       "array(['000', '012', '02', ..., 'zero', 'zinc', 'zip'], dtype=object)"
      ]
     },
     "execution_count": 12,
     "metadata": {},
     "output_type": "execute_result"
    }
   ],
   "source": [
    "Xn = vectorizer.get_feature_names_out()\n",
    "Xn"
   ]
  },
  {
   "cell_type": "code",
   "execution_count": 13,
   "id": "13e2e930",
   "metadata": {},
   "outputs": [],
   "source": [
    "from sklearn.cluster import KMeans"
   ]
  },
  {
   "cell_type": "code",
   "execution_count": 14,
   "id": "4c1fda2a",
   "metadata": {},
   "outputs": [],
   "source": [
    "kmeans = KMeans(n_clusters = 10)\n",
    "y_kmeans = kmeans.fit_predict(X)"
   ]
  },
  {
   "cell_type": "code",
   "execution_count": 15,
   "id": "ad99efeb",
   "metadata": {},
   "outputs": [
    {
     "data": {
      "image/png": "[encoded data removed]",
      "text/plain": [
       "<Figure size 800x550 with 2 Axes>"
      ]
     },
     "metadata": {},
     "output_type": "display_data"
    }
   ],
   "source": [
    "from yellowbrick.cluster import KElbowVisualizer\n",
    "visualizer = KElbowVisualizer(kmeans, k=(2,20))\n",
    "visualizer.fit(X.toarray())\n",
    "visualizer.show()\n",
    "plt.show()"
   ]
  },
  {
   "cell_type": "code",
   "execution_count": 16,
   "id": "56e25eb1",
   "metadata": {},
   "outputs": [
    {
     "data": {
      "image/png": "[encoded data removed]",
      "text/plain": [
       "<Figure size 2000x1000 with 1 Axes>"
      ]
     },
     "metadata": {},
     "output_type": "display_data"
    }
   ],
   "source": [
    "plt.figure(figsize=(20,10))\n",
    "plt.plot(y_kmeans, \".\",color='green')\n",
    "plt.show()"
   ]
  },
  {
   "cell_type": "code",
   "execution_count": 17,
   "id": "93004bde",
   "metadata": {},
   "outputs": [
    {
     "data": {
      "text/plain": [
       "{'algorithm': 'lloyd',\n",
       " 'copy_x': True,\n",
       " 'init': 'k-means++',\n",
       " 'max_iter': 300,\n",
       " 'n_clusters': 19,\n",
       " 'n_init': 'auto',\n",
       " 'random_state': None,\n",
       " 'tol': 0.0001,\n",
       " 'verbose': 0}"
      ]
     },
     "execution_count": 17,
     "metadata": {},
     "output_type": "execute_result"
    }
   ],
   "source": [
    "kmeans.get_params()"
   ]
  },
  {
   "cell_type": "code",
   "execution_count": 18,
   "id": "22a17704",
   "metadata": {},
   "outputs": [
    {
     "data": {
      "text/plain": [
       "-723.1844391205206"
      ]
     },
     "execution_count": 18,
     "metadata": {},
     "output_type": "execute_result"
    }
   ],
   "source": [
    "kmeans.score(X)"
   ]
  },
  {
   "cell_type": "code",
   "execution_count": 19,
   "id": "e9357aa1",
   "metadata": {},
   "outputs": [
    {
     "data": {
      "text/plain": [
       "array([10, 10, 10, 10,  2, 10, 10, 10, 11, 10, 10, 10, 10, 10, 10, 10,  1,\n",
       "       10,  1, 10, 10, 10, 10, 10, 10, 10, 10, 10, 10, 10, 10, 10, 12, 10,\n",
       "        5, 12, 10, 10, 12, 10, 10, 10, 10, 10,  0, 10,  0, 10, 12,  0, 12,\n",
       "       10, 10, 10, 10, 10,  0, 13,  8,  8, 10,  0, 10, 10, 10,  5, 10, 10,\n",
       "       10, 10, 10, 10, 16,  5, 16,  0, 10, 10, 10, 16, 10, 10, 10, 10, 10,\n",
       "       10, 10, 10, 10,  0, 10,  0,  0, 10,  0, 10, 10, 10, 10, 10,  0, 10,\n",
       "       10, 10, 10, 10, 10, 10,  0, 10, 10, 10, 10, 13, 10, 10, 16, 10, 10,\n",
       "       10, 10, 10, 10, 10, 10, 10,  9, 10, 10, 10, 10, 10, 10, 10,  4, 10,\n",
       "       10, 10, 10, 10, 10, 10, 10, 10, 10, 10, 10, 10, 10, 10, 10, 10, 10,\n",
       "       10, 13, 11, 10, 10,  4, 10, 10, 10, 10, 10, 10, 10, 10, 10, 10, 10,\n",
       "       10,  4, 10, 10, 13, 12, 12, 10, 10, 10, 10, 10, 18, 10, 10, 10, 10,\n",
       "       10, 10, 10, 10, 10, 13, 13, 10, 10, 10,  0, 15, 15, 12, 18, 10, 10,\n",
       "       10, 10,  5, 16, 10, 16, 10, 16, 10, 10, 10, 10, 10, 11, 10, 10, 10,\n",
       "       10,  0, 10, 10, 10, 10, 10, 10, 11, 10, 10, 10, 10, 10, 14, 10, 10,\n",
       "       10, 10, 16, 12, 12, 10,  0, 10, 10, 10, 10, 10, 10,  8,  0, 10,  0,\n",
       "       10, 10, 12, 10, 10, 12, 10,  0,  0,  5, 10, 10, 10,  0, 10,  0,  0,\n",
       "        0, 10, 10, 11, 10, 10, 10, 10,  0, 10, 11, 10, 10, 10, 10, 10, 16,\n",
       "       10, 10, 10, 10, 10, 10, 10, 10, 10, 10, 10, 10, 10, 10, 10, 10, 10,\n",
       "       10, 10, 10, 10, 10, 10, 10, 16, 10, 10, 10, 10, 10, 10, 12, 10, 10,\n",
       "       10, 10, 10,  0, 10, 10, 10, 10, 10,  0, 10, 10, 10, 10, 10, 10, 10,\n",
       "       10, 10, 10, 10, 10, 10, 10, 10, 10, 13, 10, 10, 10, 10, 10, 10, 10,\n",
       "        0, 10, 12, 10, 10, 10, 10,  5, 10, 10, 10, 10, 10, 10, 10, 10,  9,\n",
       "       10, 10,  0, 10,  0, 10, 10, 10, 10, 10, 10, 10, 15, 15, 10, 10, 10,\n",
       "       10, 16, 10, 10, 10, 10, 10, 10, 10, 10, 10, 10, 10, 10, 10, 10, 10,\n",
       "       10,  5, 10, 10, 10, 10, 10, 10, 11, 10, 10, 10, 10, 10, 10, 10, 10,\n",
       "       10, 10, 10, 10, 10, 10, 10, 10, 10, 10, 10, 10, 10, 10, 17, 11, 10,\n",
       "       10, 10, 10, 10, 10, 10, 10, 10, 10, 10, 12, 10, 10, 10, 10, 14, 10,\n",
       "       10, 10, 12, 10, 10, 10, 10, 10, 10,  0, 10, 16, 10,  8, 10, 10,  8,\n",
       "       10, 10, 16,  5, 16,  5, 10, 10, 10, 10, 10, 10,  8,  8, 10, 10, 10,\n",
       "       10, 10, 10, 10, 10, 10, 10, 10, 18, 18, 10, 10,  7, 13,  8, 10,  0,\n",
       "        8, 10, 12, 18, 12, 10, 10, 10, 10, 16, 10, 10, 12, 10, 16, 16, 16,\n",
       "       10, 10, 10, 10, 10, 10, 10, 10, 17, 12, 10, 10,  9, 10, 10, 16, 10,\n",
       "       12, 12, 10, 10,  9, 10, 10, 10, 10, 10, 10, 10, 10, 10, 10, 10, 10,\n",
       "       10, 10, 10, 10, 10, 10, 10, 10, 10, 10, 13,  8,  8, 10, 12, 10,  5,\n",
       "       10, 10, 10, 10, 12, 12, 12, 10, 10, 10, 10, 10, 10, 10, 10, 10, 10,\n",
       "       10, 10, 10, 12, 10, 12, 10, 10, 10, 10,  0, 11, 10, 10, 10, 10, 10,\n",
       "       10, 10, 10, 10, 10, 10, 10, 10, 10, 10,  0, 10, 10, 10, 10, 10, 10,\n",
       "       10,  9, 10, 10, 10, 10, 10, 10, 10, 11, 10, 10, 10, 10,  5, 10, 10,\n",
       "       10, 16, 10,  0, 10, 10, 10, 10, 10, 10, 10, 10, 10, 10, 10, 10, 10,\n",
       "       10, 10, 10, 10, 10, 12,  0, 10, 10, 10, 10, 10, 10, 10, 12,  0, 10,\n",
       "       10, 10, 10, 10, 10, 10, 10, 10, 10, 10, 10, 10, 10, 10, 10, 10, 10,\n",
       "       16, 10, 10, 10, 10, 10, 10, 10, 10, 10, 10, 10, 10, 10, 10, 10, 10,\n",
       "       10, 10, 12,  0, 10, 11, 10, 10, 10, 10, 10,  8,  8, 10, 11, 10, 10,\n",
       "       10, 10, 10, 10, 10, 10, 10, 10, 10, 10, 10, 10, 10, 10, 10, 10, 10,\n",
       "        3, 10, 10, 10, 10, 10, 10, 10, 10, 10, 10, 10, 10, 10, 10, 10, 10,\n",
       "       10, 10, 10, 10, 10, 10, 10, 10, 10, 10, 10, 10, 10, 10, 10,  5, 10,\n",
       "       10,  0,  0, 10, 10, 10, 10, 10, 10, 10, 10, 10, 10, 10,  0, 10, 10,\n",
       "       10, 10,  0, 10, 16, 10, 10, 10, 12, 10, 16, 10, 12, 10, 10, 10, 10,\n",
       "        8,  8, 10, 10, 10, 10, 10, 10, 10, 10, 10, 10, 10, 10, 10, 15, 15,\n",
       "        0, 10, 10, 10, 10, 16, 10, 10, 10,  0, 12, 10, 10,  0,  0, 10,  0,\n",
       "       10, 10, 10, 10, 10, 10, 10, 10, 10, 10, 13,  0, 10, 10, 10, 10,  0,\n",
       "       10, 10, 10, 10, 18, 10, 10, 10, 10, 10,  0, 10, 10, 10, 10,  4, 16,\n",
       "       10,  0, 10, 10, 10, 10, 10, 10, 10, 10, 13, 10, 10, 10, 16, 10, 11,\n",
       "       10, 10,  4, 16, 10, 10, 10, 10,  5, 10, 10, 10, 10, 10, 10, 10, 10,\n",
       "       10,  0,  8,  8, 10, 10, 10, 10,  0, 10, 10,  5, 10, 10, 10, 10, 10,\n",
       "       10, 10, 12, 10, 10, 10, 18, 10, 10, 10, 10, 10, 13, 10, 10,  0, 10,\n",
       "       12, 18,  0, 10, 10, 10, 10, 10, 10, 10, 12, 10, 10,  9, 10, 10, 10,\n",
       "       10, 10, 10, 10, 10, 10, 10, 10, 10, 10, 10, 10, 10, 10, 10,  6, 10,\n",
       "       10, 10, 10,  6,  6, 10, 16, 10, 10, 10, 10, 10, 10, 10])"
      ]
     },
     "execution_count": 19,
     "metadata": {},
     "output_type": "execute_result"
    }
   ],
   "source": [
    "labels = kmeans.labels_\n",
    "labels"
   ]
  },
  {
   "cell_type": "code",
   "execution_count": 20,
   "id": "88d391f5",
   "metadata": {},
   "outputs": [
    {
     "data": {
      "text/plain": [
       "(array([ 0,  1,  2,  3,  4,  5,  6,  7,  8,  9, 10, 11, 12, 13, 14, 15, 16,\n",
       "        17, 18]),\n",
       " array([ 54,   2,   1,   1,   5,  14,   3,   1,  17,   6, 788,  13,  37,\n",
       "         12,   2,   6,  28,   2,   8], dtype=int64))"
      ]
     },
     "execution_count": 20,
     "metadata": {},
     "output_type": "execute_result"
    }
   ],
   "source": [
    "cluster_ids, cluster_sizes = np.unique(kmeans.labels_, return_counts=True)\n",
    "cluster_ids, cluster_sizes"
   ]
  },
  {
   "cell_type": "code",
   "execution_count": 21,
   "id": "03e9962c",
   "metadata": {},
   "outputs": [
    {
     "name": "stdout",
     "output_type": "stream",
     "text": [
      "Top terms per cluster:\n",
      "Cluster : 0\n",
      "no\n",
      "in\n",
      "yes\n",
      "for\n",
      "10\n",
      "25\n",
      "black\n",
      "vary\n",
      "of\n",
      "to\n",
      "Cluster : 1\n",
      "63\n",
      "in\n",
      "zip\n",
      "efficient\n",
      "each\n",
      "ease\n",
      "easiest\n",
      "easily\n",
      "easy\n",
      "eco\n",
      "Cluster : 2\n",
      "gauge\n",
      "made\n",
      "from\n",
      "12\n",
      "steel\n",
      "efficiency\n",
      "ease\n",
      "easiest\n",
      "easily\n",
      "easy\n",
      "Cluster : 3\n",
      "kwik\n",
      "patented\n",
      "connect\n",
      "features\n",
      "technology\n",
      "installation\n",
      "easy\n",
      "for\n",
      "efficient\n",
      "ease\n",
      "Cluster : 4\n",
      "13\n",
      "17\n",
      "in\n",
      "paint\n",
      "be\n",
      "warranty\n",
      "it\n",
      "low\n",
      "clock\n",
      "out\n",
      "Cluster : 5\n",
      "75\n",
      "25\n",
      "11\n",
      "no\n",
      "and\n",
      "96\n",
      "black\n",
      "22\n",
      "privacy\n",
      "resistant\n",
      "Cluster : 6\n",
      "28\n",
      "875\n",
      "25\n",
      "yes\n",
      "for\n",
      "of\n",
      "with\n",
      "steel\n",
      "75\n",
      "wall\n",
      "Cluster : 7\n",
      "approved\n",
      "csa\n",
      "ul\n",
      "and\n",
      "zip\n",
      "efficiently\n",
      "easy\n",
      "eco\n",
      "edging\n",
      "edgings\n",
      "Cluster : 8\n",
      "white\n",
      "color\n",
      "25\n",
      "metal\n",
      "22\n",
      "plastic\n",
      "black\n",
      "72\n",
      "15\n",
      "be\n",
      "Cluster : 9\n",
      "15\n",
      "28\n",
      "no\n",
      "in\n",
      "white\n",
      "for\n",
      "to\n",
      "75\n",
      "the\n",
      "is\n"
     ]
    }
   ],
   "source": [
    "print(\"Top terms per cluster:\")\n",
    "order_centroids = kmeans.cluster_centers_.argsort()[:, ::-1]\n",
    "terms = vectorizer.get_feature_names_out()\n",
    "for i in range(10):\n",
    "    print(\"Cluster :\",i),\n",
    "    for ind in order_centroids[i, :10]:\n",
    "        print(terms[ind])"
   ]
  },
  {
   "cell_type": "code",
   "execution_count": 25,
   "id": "b1cdf9c3",
   "metadata": {},
   "outputs": [
    {
     "name": "stdout",
     "output_type": "stream",
     "text": [
      "Cluster : 9\n",
      "15\n",
      "28\n",
      "no\n",
      "in\n",
      "white\n",
      "for\n",
      "to\n",
      "75\n",
      "the\n",
      "is\n",
      "use\n",
      "vary\n",
      "listed\n",
      "installation\n",
      "metal\n"
     ]
    }
   ],
   "source": [
    "Y = vectorizer.transform([\"wall\"])\n",
    "prediction = kmeans.predict(Y)\n",
    "print(\"Cluster :\",i),\n",
    "for ind in order_centroids[i, :15]:\n",
    "    print(terms[ind])"
   ]
  },
  {
   "cell_type": "code",
   "execution_count": null,
   "id": "f7f8eff5",
   "metadata": {},
   "outputs": [],
   "source": []
  },
  {
   "cell_type": "code",
   "execution_count": null,
   "id": "fcd53011",
   "metadata": {},
   "outputs": [],
   "source": []
  }
 ],
 "metadata": {
  "kernelspec": {
   "display_name": "Python 3 (ipykernel)",
   "language": "python",
   "name": "python3"
  },
  "language_info": {
   "codemirror_mode": {
    "name": "ipython",
    "version": 3
   },
   "file_extension": ".py",
   "mimetype": "text/x-python",
   "name": "python",
   "nbconvert_exporter": "python",
   "pygments_lexer": "ipython3",
   "version": "3.10.11"
  }
 },
 "nbformat": 4,
 "nbformat_minor": 5
}
